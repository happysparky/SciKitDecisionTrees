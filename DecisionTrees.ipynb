{
 "cells": [
  {
   "cell_type": "markdown",
   "metadata": {
    "id": "gJL_nLkdHYDy"
   },
   "source": [
    "# Homework 6 (30 marks)\n",
    "Create a copy of the notebook to start answering the questions. Name your notebook in the format HW6_lastname_firstname.ipynb to facilitate the grading process.\n",
    "\n",
    "Answer all the questions, test your code to ensure there are no errors and the results are as expected. Once you have answered all the questions, save the final copy, then go to File-> click on Download.ipynb. Once the local copy has been downloaded, submit your file on Blackboard under the corresponding assignment section. Also provide us a link to your notebook during submission.\n",
    "\n",
    "NOTE: Please give the TAs the permission to access your notebooks through the links you have provided during submission.\n",
    "\n",
    "The due date of this homework is 04/09/2021 (Friday).\n",
    "\n",
    "Please ensure you follow all the steps mentioned in the homework.\n",
    "\n",
    "You can submit your solutions any number of times until the deadline.\n",
    "\n",
    "The datasets used in this homework can be found in the google drive link below -\n",
    "\n",
    "https://drive.google.com/drive/folders/1NxCh4X7u7wVo5aHojxjLNs9wC7B7zJhb?usp=sharing\n",
    "\n",
    "Follow the necessary steps to import data to test your code. You can use any method to read your data in the notebook. We will not be grading the methods you use. We will only grade the code from the point where you read the dataset into a pandas dataframe - (pd.read_csv('file_name'))"
   ]
  },
  {
   "cell_type": "markdown",
   "metadata": {
    "id": "Zp3D8wIOH4bR"
   },
   "source": [
    "Import all the libraries you require in the cell below.\n",
    "\n"
   ]
  },
  {
   "cell_type": "code",
   "execution_count": 186,
   "metadata": {
    "id": "72EyvzqAH6G_"
   },
   "outputs": [],
   "source": [
    "# Enter your code here\n",
    "import pandas as pd\n",
    "\n",
    "df = pd.read_csv(\"mushrooms.csv\")"
   ]
  },
  {
   "cell_type": "markdown",
   "metadata": {
    "id": "TxCnZ-n3H0Wd"
   },
   "source": [
    "### 1. Build a classification model that predicts the edibility of mushrooms (class variable in the dataset). You have been provide with a dataset as a mushrooms.csv file. \n",
    "Here is a description of the attributes\n"
   ]
  },
  {
   "cell_type": "markdown",
   "metadata": {
    "id": "2WX2OwgOIHMd"
   },
   "source": [
    "Attribute description:\n",
    "1. cap-shape: bell=b,conical=c,convex=x,flat=f, knobbed=k,sunken=s \n",
    "2. cap-surface: fibrous=f,grooves=g,scaly=y,smooth=s \n",
    "3. cap-color: brown=n,buff=b,cinnamon=c,gray=g,green=r, pink=p,purple=u,red=e,white=w,yellow=y \n",
    "4. bruises?: bruises=t,no=f \n",
    "5. odor: almond=a,anise=l,creosote=c,fishy=y,foul=f, musty=m,none=n,pungent=p,spicy=s \n",
    "6. gill-attachment: attached=a,descending=d,free=f,notched=n \n",
    "7. gill-spacing: close=c,crowded=w,distant=d \n",
    "8. gill-size: broad=b,narrow=n \n",
    "9. gill-color: black=k,brown=n,buff=b,chocolate=h,gray=g, green=r,orange=o,pink=p,purple=u,red=e, white=w,yellow=y \n",
    "10. stalk-shape: enlarging=e,tapering=t \n",
    "11. stalk-root: bulbous=b,club=c,cup=u,equal=e, rhizomorphs=z,rooted=r,missing=? \n",
    "12. stalk-surface-above-ring: fibrous=f,scaly=y,silky=k,smooth=s \n",
    "13. stalk-surface-below-ring: fibrous=f,scaly=y,silky=k,smooth=s \n",
    "14. stalk-color-above-ring: brown=n,buff=b,cinnamon=c,gray=g,orange=o, pink=p,red=e,white=w,yellow=y \n",
    "15. stalk-color-below-ring: brown=n,buff=b,cinnamon=c,gray=g,orange=o, pink=p,red=e,white=w,yellow=y \n",
    "16. veil-type: partial=p,universal=u \n",
    "17. veil-color: brown=n,orange=o,white=w,yellow=y \n",
    "18. ring-number: none=n,one=o,two=t \n",
    "19. ring-type: cobwebby=c,evanescent=e,flaring=f,large=l, none=n,pendant=p,sheathing=s,zone=z \n",
    "20. spore-print-color: black=k,brown=n,buff=b,chocolate=h,green=r, orange=o,purple=u,white=w,yellow=y \n",
    "21. population: abundant=a,clustered=c,numerous=n, scattered=s,several=v,solitary=y \n",
    "22. habitat: grasses=g,leaves=l,meadows=m,paths=p, urban=u,waste=w,woods=d\n",
    "23. class: p = poisonous, e=edible\n"
   ]
  },
  {
   "cell_type": "markdown",
   "metadata": {
    "id": "LJeXdQymILSv"
   },
   "source": [
    "1. Build a classification tree. Random_state =2020. Training partition 0.7 stratify = y, max_depth = 6, use Entropy (8 marks)\n",
    "\n",
    "---\n",
    "\n",
    "\n",
    "A. Read the dataset, explore it and determine what is the dependent variable (1 mark)\n",
    "\n",
    "B. Store the feature and target variable. (2 marks)\n",
    "\n",
    "C. Convert all categorical variables into dummy variables (1 mark)\n",
    "\n",
    "D. Partition the data into training and test sets (70/30) (1 mark)\n",
    "\n",
    "E. Fit the training data to a classification tree. (3 marks)"
   ]
  },
  {
   "cell_type": "code",
   "execution_count": 187,
   "metadata": {
    "colab": {
     "base_uri": "https://localhost:8080/"
    },
    "id": "Eme32RA0IKoR",
    "outputId": "96cdd377-ee90-4639-c863-57908db259db"
   },
   "outputs": [
    {
     "name": "stdout",
     "output_type": "stream",
     "text": [
      "<bound method NDFrame.head of      class cap-shape cap-surface cap-color bruises odor gill-attachment  \\\n",
      "0        p         x           s         n       t    p               f   \n",
      "1        e         x           s         y       t    a               f   \n",
      "2        e         b           s         w       t    l               f   \n",
      "3        p         x           y         w       t    p               f   \n",
      "4        e         x           s         g       f    n               f   \n",
      "...    ...       ...         ...       ...     ...  ...             ...   \n",
      "8119     e         k           s         n       f    n               a   \n",
      "8120     e         x           s         n       f    n               a   \n",
      "8121     e         f           s         n       f    n               a   \n",
      "8122     p         k           y         n       f    y               f   \n",
      "8123     e         x           s         n       f    n               a   \n",
      "\n",
      "     gill-spacing gill-size gill-color stalk-shape stalk-root  \\\n",
      "0               c         n          k           e          e   \n",
      "1               c         b          k           e          c   \n",
      "2               c         b          n           e          c   \n",
      "3               c         n          n           e          e   \n",
      "4               w         b          k           t          e   \n",
      "...           ...       ...        ...         ...        ...   \n",
      "8119            c         b          y           e          ?   \n",
      "8120            c         b          y           e          ?   \n",
      "8121            c         b          n           e          ?   \n",
      "8122            c         n          b           t          ?   \n",
      "8123            c         b          y           e          ?   \n",
      "\n",
      "     stalk-surface-above-ring stalk-surface-below-ring stalk-color-above-ring  \\\n",
      "0                           s                        s                      w   \n",
      "1                           s                        s                      w   \n",
      "2                           s                        s                      w   \n",
      "3                           s                        s                      w   \n",
      "4                           s                        s                      w   \n",
      "...                       ...                      ...                    ...   \n",
      "8119                        s                        s                      o   \n",
      "8120                        s                        s                      o   \n",
      "8121                        s                        s                      o   \n",
      "8122                        s                        k                      w   \n",
      "8123                        s                        s                      o   \n",
      "\n",
      "     stalk-color-below-ring veil-type veil-color ring-number ring-type  \\\n",
      "0                         w         p          w           o         p   \n",
      "1                         w         p          w           o         p   \n",
      "2                         w         p          w           o         p   \n",
      "3                         w         p          w           o         p   \n",
      "4                         w         p          w           o         e   \n",
      "...                     ...       ...        ...         ...       ...   \n",
      "8119                      o         p          o           o         p   \n",
      "8120                      o         p          n           o         p   \n",
      "8121                      o         p          o           o         p   \n",
      "8122                      w         p          w           o         e   \n",
      "8123                      o         p          o           o         p   \n",
      "\n",
      "     spore-print-color population habitat  \n",
      "0                    k          s       u  \n",
      "1                    n          n       g  \n",
      "2                    n          n       m  \n",
      "3                    k          s       u  \n",
      "4                    n          a       g  \n",
      "...                ...        ...     ...  \n",
      "8119                 b          c       l  \n",
      "8120                 b          v       l  \n",
      "8121                 b          c       l  \n",
      "8122                 w          v       l  \n",
      "8123                 o          c       l  \n",
      "\n",
      "[8124 rows x 23 columns]>\n",
      "Index(['class', 'cap-shape', 'cap-surface', 'cap-color', 'bruises', 'odor',\n",
      "       'gill-attachment', 'gill-spacing', 'gill-size', 'gill-color',\n",
      "       'stalk-shape', 'stalk-root', 'stalk-surface-above-ring',\n",
      "       'stalk-surface-below-ring', 'stalk-color-above-ring',\n",
      "       'stalk-color-below-ring', 'veil-type', 'veil-color', 'ring-number',\n",
      "       'ring-type', 'spore-print-color', 'population', 'habitat'],\n",
      "      dtype='object')\n",
      "class                       0\n",
      "cap-shape                   0\n",
      "cap-surface                 0\n",
      "cap-color                   0\n",
      "bruises                     0\n",
      "odor                        0\n",
      "gill-attachment             0\n",
      "gill-spacing                0\n",
      "gill-size                   0\n",
      "gill-color                  0\n",
      "stalk-shape                 0\n",
      "stalk-root                  0\n",
      "stalk-surface-above-ring    0\n",
      "stalk-surface-below-ring    0\n",
      "stalk-color-above-ring      0\n",
      "stalk-color-below-ring      0\n",
      "veil-type                   0\n",
      "veil-color                  0\n",
      "ring-number                 0\n",
      "ring-type                   0\n",
      "spore-print-color           0\n",
      "population                  0\n",
      "habitat                     0\n",
      "dtype: int64\n",
      "(8124, 23)\n"
     ]
    }
   ],
   "source": [
    "# Enter your code here\n",
    "\n",
    "#A. Read the dataset, explore it and determine what is the dependent variable (1 mark)\n",
    "\n",
    "print(df.head)\n",
    "print(df.columns)\n",
    "print(df.isna().sum())\n",
    "print(df.shape)"
   ]
  },
  {
   "cell_type": "code",
   "execution_count": 188,
   "metadata": {
    "id": "DwUev5Vo7EaC"
   },
   "outputs": [],
   "source": [
    "#B. Store the feature and target variable. (2 marks)\n",
    "\n",
    "x = df[df.columns[1:]]\n",
    "y = df[\"class\"]"
   ]
  },
  {
   "cell_type": "code",
   "execution_count": 189,
   "metadata": {
    "id": "7jdx-FAb7EXq"
   },
   "outputs": [],
   "source": [
    "#C. Convert all categorical variables into dummy variables (1 mark)\n",
    "X = pd.get_dummies(x, columns=x.columns)\n",
    "Y = y"
   ]
  },
  {
   "cell_type": "code",
   "execution_count": 190,
   "metadata": {
    "id": "30B5lCGH7EU3"
   },
   "outputs": [],
   "source": [
    "#D. Partition the data into training and test sets (70/30) (1 mark)\n",
    "#1.Build a classification tree. Random_state =2020. Training partition 0.7 stratify = y, max_depth = 6, use Entropy (8 marks)\n",
    "\n",
    "from sklearn.model_selection import train_test_split\n",
    "\n",
    "X_train, X_test, Y_train, Y_test = train_test_split(X, Y, test_size=0.3, random_state=2020, stratify=y)"
   ]
  },
  {
   "cell_type": "code",
   "execution_count": 191,
   "metadata": {
    "colab": {
     "base_uri": "https://localhost:8080/"
    },
    "id": "2IBoJMXS7ENF",
    "outputId": "26a68806-9a6b-4229-e692-a7d7399a36f5"
   },
   "outputs": [
    {
     "data": {
      "text/plain": [
       "DecisionTreeClassifier(ccp_alpha=0.0, class_weight=None, criterion='entropy',\n",
       "                       max_depth=6, max_features=None, max_leaf_nodes=None,\n",
       "                       min_impurity_decrease=0.0, min_impurity_split=None,\n",
       "                       min_samples_leaf=1, min_samples_split=2,\n",
       "                       min_weight_fraction_leaf=0.0, presort='deprecated',\n",
       "                       random_state=None, splitter='best')"
      ]
     },
     "execution_count": 191,
     "metadata": {
      "tags": []
     },
     "output_type": "execute_result"
    }
   ],
   "source": [
    "#E. Fit the training data to a classification tree.\n",
    "from sklearn.tree import DecisionTreeClassifier\n",
    "\n",
    "dt = DecisionTreeClassifier(max_depth=6, criterion='entropy')\n",
    "dt.fit(X_train, Y_train)"
   ]
  },
  {
   "cell_type": "code",
   "execution_count": 192,
   "metadata": {
    "id": "mU_Ujm4MIEfs"
   },
   "outputs": [],
   "source": [
    "Y_pred = dt.predict(X_test)"
   ]
  },
  {
   "cell_type": "markdown",
   "metadata": {
    "id": "YB-2YFsOIUah"
   },
   "source": [
    "2. Print the confusion matrix. \n",
    "Also visualize the confusion matrix using plot_confusion_matrix from sklearn.metrics (3 marks)\n",
    "\n"
   ]
  },
  {
   "cell_type": "code",
   "execution_count": 193,
   "metadata": {
    "colab": {
     "base_uri": "https://localhost:8080/",
     "height": 312
    },
    "id": "VFwyLKzcRjyY",
    "outputId": "f4b66ff7-daed-4e6e-817c-f8e903752cba"
   },
   "outputs": [
    {
     "name": "stdout",
     "output_type": "stream",
     "text": [
      "[[1263    0]\n",
      " [   3 1172]]\n"
     ]
    },
    {
     "data": {
      "image/png": "[encoded data removed]",
      "text/plain": [
       "<Figure size 432x288 with 2 Axes>"
      ]
     },
     "metadata": {
      "needs_background": "light",
      "tags": []
     },
     "output_type": "display_data"
    }
   ],
   "source": [
    "# Enter your code here\n",
    "from sklearn import metrics\n",
    "\n",
    "cf = metrics.confusion_matrix(Y_test, Y_pred)\n",
    "print(cf)\n",
    "\n",
    "import matplotlib.pyplot as plt\n",
    "\n",
    "metrics.plot_confusion_matrix(dt, X_test, Y_test)\n",
    "plt.show()"
   ]
  },
  {
   "cell_type": "markdown",
   "metadata": {
    "id": "yhdyvv48JFFd"
   },
   "source": [
    "3. Print the accuracy on the training partition?  (2 marks)\n"
   ]
  },
  {
   "cell_type": "code",
   "execution_count": 194,
   "metadata": {
    "colab": {
     "base_uri": "https://localhost:8080/"
    },
    "id": "WeQ9cOluRrL2",
    "outputId": "e25af904-a4f8-4802-cb1c-f98451e91a3a"
   },
   "outputs": [
    {
     "name": "stdout",
     "output_type": "stream",
     "text": [
      "Accuracy = 1.0\n"
     ]
    }
   ],
   "source": [
    "# Enter your code here\n",
    "training_pred = dt.predict(X_train)\n",
    "print('Accuracy =', metrics.accuracy_score(Y_train, training_pred))"
   ]
  },
  {
   "cell_type": "markdown",
   "metadata": {
    "id": "_aH9TPFSJGv_"
   },
   "source": [
    "4. Print the accuracy on the test partition? (2 marks)\n"
   ]
  },
  {
   "cell_type": "code",
   "execution_count": 195,
   "metadata": {
    "colab": {
     "base_uri": "https://localhost:8080/"
    },
    "id": "U4eEWJCvRwSn",
    "outputId": "74ae5271-a5c7-42b7-f850-c7ac8f995b09"
   },
   "outputs": [
    {
     "name": "stdout",
     "output_type": "stream",
     "text": [
      "Accuracy = 0.9987694831829368\n"
     ]
    }
   ],
   "source": [
    "# Enter your code here\n",
    "print('Accuracy =', metrics.accuracy_score(Y_test, Y_pred))"
   ]
  },
  {
   "cell_type": "markdown",
   "metadata": {
    "id": "_cWbOP-3JIE0"
   },
   "source": [
    "5. Show the classification tree and save it (5 marks)\n"
   ]
  },
  {
   "cell_type": "code",
   "execution_count": 196,
   "metadata": {
    "colab": {
     "base_uri": "https://localhost:8080/",
     "height": 248
    },
    "id": "LRuYQCeNR1Dn",
    "outputId": "42be7f80-7642-436a-bb70-bd8bdd7ed295"
   },
   "outputs": [
    {
     "data": {
      "image/png": "[encoded data removed]",
      "text/plain": [
       "<Figure size 432x288 with 1 Axes>"
      ]
     },
     "metadata": {
      "needs_background": "light",
      "tags": []
     },
     "output_type": "display_data"
    }
   ],
   "source": [
    "# Enter your code here\n",
    "from sklearn import tree\n",
    "\n",
    "plt.figure()\n",
    "irisTree = tree.plot_tree(dt)\n",
    "#dpi just increases resolution so easier to read\n",
    "plt.savefig('EdibleMushroomDT.png', dpi=120)\n",
    "plt.show()\n"
   ]
  },
  {
   "cell_type": "markdown",
   "metadata": {
    "id": "a3fM0HMSJJl8"
   },
   "source": [
    "6. Find and print the top three most important features in your decision tree for determining toxicity. (4 marks)"
   ]
  },
  {
   "cell_type": "code",
   "execution_count": 197,
   "metadata": {
    "colab": {
     "base_uri": "https://localhost:8080/"
    },
    "id": "qTkc8ga1R6kd",
    "outputId": "d1e765e1-7d97-4ef7-95da-f2107b11b3b3"
   },
   "outputs": [
    {
     "name": "stdout",
     "output_type": "stream",
     "text": [
      "               0         1\n",
      "27        odor_n  0.527899\n",
      "20     bruises_f  0.212695\n",
      "53  stalk-root_c  0.067373\n"
     ]
    }
   ],
   "source": [
    "imp=pd.DataFrame(zip(X_train.columns, dt.feature_importances_))\n",
    "imp.sort_values(by=[1], ascending=False, inplace=True)\n",
    "print(imp.head(3))"
   ]
  },
  {
   "cell_type": "markdown",
   "metadata": {
    "id": "uye7JohHJQmN"
   },
   "source": [
    "7. Classify the following mushroom. (6 marks)\n",
    "\n",
    "class\n",
    " : **?**\n",
    "\n",
    "cap-shape\n",
    ": **x**\n",
    "\n",
    "cap-surface\n",
    ": **s**\n",
    "\n",
    "cap-color\n",
    ": **n**\n",
    "\n",
    "bruises\n",
    ": **t**\n",
    "\n",
    "odor\n",
    ": **y**\n",
    "\n",
    "gill-attachment\n",
    ": **f**\n",
    "\n",
    "gill-spacing\n",
    ": **c**\n",
    "\n",
    "gill-size\n",
    ": **n**\n",
    "\n",
    "gill-color\n",
    ": **k**\n",
    "\n",
    "stalk-shape\n",
    ": **e**\n",
    "\n",
    "stalk-root\n",
    ": **e**\n",
    "\n",
    "stalk-surface-above-ring\n",
    ": **s**\n",
    "\n",
    "stalk-surface-below-ring\n",
    ": **s**\n",
    "\n",
    "stalk-color-above-ring\n",
    ": **w**\n",
    "\n",
    "stalk-color-below-ring\n",
    ": **w**\n",
    "\n",
    "veil-type\n",
    ": **p**\n",
    "\n",
    "veil-color\n",
    ": **w**\n",
    "\n",
    "ring-number\n",
    ": **o**\n",
    "\n",
    "ring-type\n",
    ": **p**\n",
    "\n",
    "spore-print-color\n",
    ": **r**\n",
    "\n",
    "population\n",
    ": **s**\n",
    "\n",
    "habitat\n",
    ": **u**\n",
    "\n"
   ]
  },
  {
   "cell_type": "code",
   "execution_count": 174,
   "metadata": {
    "colab": {
     "base_uri": "https://localhost:8080/"
    },
    "id": "jaLW4bhtSGjh",
    "outputId": "c9a6e03b-21ce-4e0f-d83f-672d0a89e71d"
   },
   "outputs": [
    {
     "name": "stdout",
     "output_type": "stream",
     "text": [
      "The mushroom is predicted to be poisonous\n"
     ]
    }
   ],
   "source": [
    "# Enter your code here\n",
    "\n",
    "pd.set_option('display.max_columns', None)\n",
    "ind = {\"cap-shape_x\" : [1], \"cap-surface_s\" : [1], \"cap-color_n\" :[1], \"bruises_t\": [1],\n",
    "       \"odor_y\": [1], \"gill-attachment_f\": [1], \"gill-spacing_c\":[1], \"gill-size_n\":[1], \"gill-color_k\":[1],\n",
    "       \"stalk-shape_e\": [1], \"stalk-root_e\": [1], \"stalk-surface-above-ring_s\": [1], \"stalk-surface-below-ring_s\": [1],\n",
    "       \"stalk-color-above-ring_w\":[1], \"stalk-color-below-ring_w\":[1], \"veil-type_p\":[1], \"veil-color_w\":[1],\n",
    "       \"ring-number_o\":[1], \"ring-type_p\":[1], \"spore-print-color_r\":[1], \"population_s\":[1], \"habitat_u\":[1]}\n",
    "ind = pd.DataFrame(ind)\n",
    "temp = []\n",
    "for i in X_train.columns:\n",
    "  if i in ind.keys():\n",
    "    temp.append(1)\n",
    "  else:\n",
    "    temp.append(0)\n",
    "  \n",
    "temp = pd.Series(temp)\n",
    "\n",
    "if(dt.predict([temp])[0] == 'p'):\n",
    "  print(\"The mushroom is predicted to be poisonous\")\n",
    "else:\n",
    "  print(\"The mushroom is predicted to be edible\")"
   ]
  },
  {
   "cell_type": "code",
   "execution_count": null,
   "metadata": {
    "id": "RNiZ6Z58LJi5"
   },
   "outputs": [],
   "source": []
  }
 ],
 "metadata": {
  "colab": {
   "collapsed_sections": [],
   "name": "HW6_Zha_Leon",
   "provenance": [],
   "toc_visible": true
  },
  "kernelspec": {
   "display_name": "Python 3",
   "language": "python",
   "name": "python3"
  },
  "language_info": {
   "codemirror_mode": {
    "name": "ipython",
    "version": 3
   },
   "file_extension": ".py",
   "mimetype": "text/x-python",
   "name": "python",
   "nbconvert_exporter": "python",
   "pygments_lexer": "ipython3",
   "version": "3.8.5"
  }
 },
 "nbformat": 4,
 "nbformat_minor": 1
}
